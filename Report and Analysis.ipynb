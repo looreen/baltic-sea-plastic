{
 "cells": [
  {
   "cell_type": "markdown",
   "id": "b4ea897b",
   "metadata": {},
   "source": [
    "\n",
    "# Plastic in the Baltic Sea\n",
    "\n",
    "When visiting the German Baltic Sea and reading about plastic in the oceans I wondered how much plastic is actually in there. I saw some in the dunes for myselfes, but what about the water? \n",
    "\n",
    "And then I came across news reports like this: \n",
    "\n",
    "https://www.nordkurier.de/usedom/satellitenbild-zeigt-das-tiefgefrorene-vorpommern-2146818901.html\n",
    "\n",
    "Satellite images showing the frozen Baltic Sea. "
   ]
  },
  {
   "cell_type": "markdown",
   "id": "dec03f9c",
   "metadata": {},
   "source": [
    "## Data collection \n",
    "\n"
   ]
  },
  {
   "cell_type": "markdown",
   "id": "82693701",
   "metadata": {},
   "source": [
    "One of the inspirations for the task: \n",
    "\n",
    "https://earth.org/satellite-imagery-helping-to-detect-plastic-pollution-in-the-ocean/ \n",
    "\n",
    "http://plp.aegean.gr/"
   ]
  }
 ],
 "metadata": {
  "kernelspec": {
   "display_name": "Python 3 (ipykernel)",
   "language": "python",
   "name": "python3"
  },
  "language_info": {
   "codemirror_mode": {
    "name": "ipython",
    "version": 3
   },
   "file_extension": ".py",
   "mimetype": "text/x-python",
   "name": "python",
   "nbconvert_exporter": "python",
   "pygments_lexer": "ipython3",
   "version": "3.9.12"
  }
 },
 "nbformat": 4,
 "nbformat_minor": 5
}
